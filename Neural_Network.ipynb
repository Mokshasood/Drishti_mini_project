{
  "nbformat": 4,
  "nbformat_minor": 0,
  "metadata": {
    "colab": {
      "name": "Neural_Network.ipynb",
      "provenance": []
    },
    "kernelspec": {
      "name": "python3",
      "display_name": "Python 3"
    }
  },
  "cells": [
    {
      "cell_type": "code",
      "metadata": {
        "colab_type": "code",
        "id": "bkbhY0VOiHUv",
        "colab": {}
      },
      "source": [
        "import numpy as np\n",
        "import pandas as pd\n",
        "from matplotlib import pyplot as plt"
      ],
      "execution_count": 0,
      "outputs": []
    },
    {
      "cell_type": "code",
      "metadata": {
        "colab_type": "code",
        "outputId": "71ac9c58-1274-46b2-a630-ef73481a2125",
        "id": "3hZnNszciG9t",
        "colab": {
          "base_uri": "https://localhost:8080/",
          "height": 375
        }
      },
      "source": [
        "data=pd.read_csv(\"/content/Magic_Telescope_data.csv\")\n",
        "data.head(10)"
      ],
      "execution_count": 2,
      "outputs": [
        {
          "output_type": "execute_result",
          "data": {
            "text/html": [
              "<div>\n",
              "<style scoped>\n",
              "    .dataframe tbody tr th:only-of-type {\n",
              "        vertical-align: middle;\n",
              "    }\n",
              "\n",
              "    .dataframe tbody tr th {\n",
              "        vertical-align: top;\n",
              "    }\n",
              "\n",
              "    .dataframe thead th {\n",
              "        text-align: right;\n",
              "    }\n",
              "</style>\n",
              "<table border=\"1\" class=\"dataframe\">\n",
              "  <thead>\n",
              "    <tr style=\"text-align: right;\">\n",
              "      <th></th>\n",
              "      <th>ID</th>\n",
              "      <th>fLen0t1:</th>\n",
              "      <th>fWidt1:</th>\n",
              "      <th>fSize:</th>\n",
              "      <th>fConc:</th>\n",
              "      <th>fConc1:</th>\n",
              "      <th>fAsym:</th>\n",
              "      <th>fM3Lon0:</th>\n",
              "      <th>fM3Trans:</th>\n",
              "      <th>fAlp1a:</th>\n",
              "      <th>fDist:</th>\n",
              "      <th>class</th>\n",
              "    </tr>\n",
              "  </thead>\n",
              "  <tbody>\n",
              "    <tr>\n",
              "      <th>0</th>\n",
              "      <td>NaN</td>\n",
              "      <td>NaN</td>\n",
              "      <td>NaN</td>\n",
              "      <td>NaN</td>\n",
              "      <td>NaN</td>\n",
              "      <td>NaN</td>\n",
              "      <td>NaN</td>\n",
              "      <td>NaN</td>\n",
              "      <td>NaN</td>\n",
              "      <td>NaN</td>\n",
              "      <td>NaN</td>\n",
              "      <td>NaN</td>\n",
              "    </tr>\n",
              "    <tr>\n",
              "      <th>1</th>\n",
              "      <td>1.0</td>\n",
              "      <td>28.7967</td>\n",
              "      <td>16.0021</td>\n",
              "      <td>2.6449</td>\n",
              "      <td>0.3918</td>\n",
              "      <td>0.1982</td>\n",
              "      <td>27.7004</td>\n",
              "      <td>22.011</td>\n",
              "      <td>-8.2027</td>\n",
              "      <td>40.0920</td>\n",
              "      <td>81.8828</td>\n",
              "      <td>g</td>\n",
              "    </tr>\n",
              "    <tr>\n",
              "      <th>2</th>\n",
              "      <td>2.0</td>\n",
              "      <td>31.6036</td>\n",
              "      <td>11.7235</td>\n",
              "      <td>2.5185</td>\n",
              "      <td>0.5303</td>\n",
              "      <td>0.3773</td>\n",
              "      <td>26.2722</td>\n",
              "      <td>23.8238</td>\n",
              "      <td>-9.9574</td>\n",
              "      <td>6.3609</td>\n",
              "      <td>205.2610</td>\n",
              "      <td>g</td>\n",
              "    </tr>\n",
              "    <tr>\n",
              "      <th>3</th>\n",
              "      <td>3.0</td>\n",
              "      <td>162.0520</td>\n",
              "      <td>136.0310</td>\n",
              "      <td>4.0612</td>\n",
              "      <td>0.0374</td>\n",
              "      <td>0.0187</td>\n",
              "      <td>116.741</td>\n",
              "      <td>-64.858</td>\n",
              "      <td>-45.2160</td>\n",
              "      <td>76.9600</td>\n",
              "      <td>256.7880</td>\n",
              "      <td>g</td>\n",
              "    </tr>\n",
              "    <tr>\n",
              "      <th>4</th>\n",
              "      <td>4.0</td>\n",
              "      <td>23.8172</td>\n",
              "      <td>9.5728</td>\n",
              "      <td>2.3385</td>\n",
              "      <td>0.6147</td>\n",
              "      <td>0.3922</td>\n",
              "      <td>27.2107</td>\n",
              "      <td>-6.4633</td>\n",
              "      <td>-7.1513</td>\n",
              "      <td>10.4490</td>\n",
              "      <td>116.7370</td>\n",
              "      <td>g</td>\n",
              "    </tr>\n",
              "    <tr>\n",
              "      <th>5</th>\n",
              "      <td>5.0</td>\n",
              "      <td>75.1362</td>\n",
              "      <td>30.9205</td>\n",
              "      <td>3.1611</td>\n",
              "      <td>0.3168</td>\n",
              "      <td>0.1832</td>\n",
              "      <td>-5.5277</td>\n",
              "      <td>28.5525</td>\n",
              "      <td>21.8393</td>\n",
              "      <td>4.6480</td>\n",
              "      <td>356.4620</td>\n",
              "      <td>g</td>\n",
              "    </tr>\n",
              "    <tr>\n",
              "      <th>6</th>\n",
              "      <td>6.0</td>\n",
              "      <td>51.6240</td>\n",
              "      <td>21.1502</td>\n",
              "      <td>2.9085</td>\n",
              "      <td>0.2420</td>\n",
              "      <td>0.134</td>\n",
              "      <td>50.8761</td>\n",
              "      <td>43.1887</td>\n",
              "      <td>9.8145</td>\n",
              "      <td>3.6130</td>\n",
              "      <td>238.0980</td>\n",
              "      <td>g</td>\n",
              "    </tr>\n",
              "    <tr>\n",
              "      <th>7</th>\n",
              "      <td>7.0</td>\n",
              "      <td>48.2468</td>\n",
              "      <td>17.3565</td>\n",
              "      <td>3.0332</td>\n",
              "      <td>0.2529</td>\n",
              "      <td>0.1515</td>\n",
              "      <td>8.573</td>\n",
              "      <td>38.0957</td>\n",
              "      <td>10.5868</td>\n",
              "      <td>4.7920</td>\n",
              "      <td>219.0870</td>\n",
              "      <td>g</td>\n",
              "    </tr>\n",
              "    <tr>\n",
              "      <th>8</th>\n",
              "      <td>8.0</td>\n",
              "      <td>26.7897</td>\n",
              "      <td>13.7595</td>\n",
              "      <td>2.5521</td>\n",
              "      <td>0.4236</td>\n",
              "      <td>0.2174</td>\n",
              "      <td>29.6339</td>\n",
              "      <td>20.456</td>\n",
              "      <td>-2.9292</td>\n",
              "      <td>0.8120</td>\n",
              "      <td>237.1340</td>\n",
              "      <td>g</td>\n",
              "    </tr>\n",
              "    <tr>\n",
              "      <th>9</th>\n",
              "      <td>9.0</td>\n",
              "      <td>96.2327</td>\n",
              "      <td>46.5165</td>\n",
              "      <td>4.154</td>\n",
              "      <td>0.0779</td>\n",
              "      <td>0.039</td>\n",
              "      <td>110.355</td>\n",
              "      <td>85.0486</td>\n",
              "      <td>43.1844</td>\n",
              "      <td>4.8540</td>\n",
              "      <td>248.2260</td>\n",
              "      <td>g</td>\n",
              "    </tr>\n",
              "  </tbody>\n",
              "</table>\n",
              "</div>"
            ],
            "text/plain": [
              "    ID  fLen0t1:   fWidt1:  fSize:  ...  fM3Trans:  fAlp1a:    fDist: class\n",
              "0  NaN       NaN       NaN     NaN  ...        NaN      NaN       NaN   NaN\n",
              "1  1.0   28.7967   16.0021  2.6449  ...    -8.2027  40.0920   81.8828     g\n",
              "2  2.0   31.6036   11.7235  2.5185  ...    -9.9574   6.3609  205.2610     g\n",
              "3  3.0  162.0520  136.0310  4.0612  ...   -45.2160  76.9600  256.7880     g\n",
              "4  4.0   23.8172    9.5728  2.3385  ...    -7.1513  10.4490  116.7370     g\n",
              "5  5.0   75.1362   30.9205  3.1611  ...    21.8393   4.6480  356.4620     g\n",
              "6  6.0   51.6240   21.1502  2.9085  ...     9.8145   3.6130  238.0980     g\n",
              "7  7.0   48.2468   17.3565  3.0332  ...    10.5868   4.7920  219.0870     g\n",
              "8  8.0   26.7897   13.7595  2.5521  ...    -2.9292   0.8120  237.1340     g\n",
              "9  9.0   96.2327   46.5165   4.154  ...    43.1844   4.8540  248.2260     g\n",
              "\n",
              "[10 rows x 12 columns]"
            ]
          },
          "metadata": {
            "tags": []
          },
          "execution_count": 2
        }
      ]
    },
    {
      "cell_type": "code",
      "metadata": {
        "colab_type": "code",
        "outputId": "64467817-48b7-4f7e-8f99-a8ca76760dc3",
        "id": "QPy2aLFPiGU6",
        "colab": {
          "base_uri": "https://localhost:8080/",
          "height": 211
        }
      },
      "source": [
        "for i in range(len(data['class'])):\n",
        "  if data['class'][i]=='g':\n",
        "    data['class'][i]=1\n",
        "  elif data['class'][i]=='h':\n",
        "    data['class'][i]=0\n",
        "  else:\n",
        "    pass"
      ],
      "execution_count": 3,
      "outputs": [
        {
          "output_type": "stream",
          "text": [
            "/usr/local/lib/python3.6/dist-packages/ipykernel_launcher.py:3: SettingWithCopyWarning: \n",
            "A value is trying to be set on a copy of a slice from a DataFrame\n",
            "\n",
            "See the caveats in the documentation: http://pandas.pydata.org/pandas-docs/stable/user_guide/indexing.html#returning-a-view-versus-a-copy\n",
            "  This is separate from the ipykernel package so we can avoid doing imports until\n",
            "/usr/local/lib/python3.6/dist-packages/ipykernel_launcher.py:5: SettingWithCopyWarning: \n",
            "A value is trying to be set on a copy of a slice from a DataFrame\n",
            "\n",
            "See the caveats in the documentation: http://pandas.pydata.org/pandas-docs/stable/user_guide/indexing.html#returning-a-view-versus-a-copy\n",
            "  \"\"\"\n"
          ],
          "name": "stderr"
        }
      ]
    },
    {
      "cell_type": "code",
      "metadata": {
        "colab_type": "code",
        "outputId": "81a6c2d9-1994-4497-80b5-610df680177b",
        "id": "UEqAoUDKiF9n",
        "colab": {
          "base_uri": "https://localhost:8080/",
          "height": 312
        }
      },
      "source": [
        "#data= data.apply(pd.to_numeric, errors='coerce')\n",
        "data=data.apply(lambda x :pd.to_numeric(x, errors ='coerce'),axis=1).dropna()\n",
        "data.info()"
      ],
      "execution_count": 4,
      "outputs": [
        {
          "output_type": "stream",
          "text": [
            "<class 'pandas.core.frame.DataFrame'>\n",
            "Int64Index: 18988 entries, 1 to 19020\n",
            "Data columns (total 12 columns):\n",
            "ID           18988 non-null float64\n",
            "fLen0t1:     18988 non-null float64\n",
            "fWidt1:      18988 non-null float64\n",
            "fSize:       18988 non-null float64\n",
            "fConc:       18988 non-null float64\n",
            "fConc1:      18988 non-null float64\n",
            "fAsym:       18988 non-null float64\n",
            "fM3Lon0:     18988 non-null float64\n",
            "fM3Trans:    18988 non-null float64\n",
            "fAlp1a:      18988 non-null float64\n",
            "fDist:       18988 non-null float64\n",
            "class        18988 non-null float64\n",
            "dtypes: float64(12)\n",
            "memory usage: 1.9 MB\n"
          ],
          "name": "stdout"
        }
      ]
    },
    {
      "cell_type": "code",
      "metadata": {
        "colab_type": "code",
        "id": "RX6tNDQ9iFra",
        "colab": {}
      },
      "source": [
        "data=data.iloc[:,1:]\n",
        "x=data.iloc[:,:-1]\n",
        "y=data.iloc[:,-1]"
      ],
      "execution_count": 0,
      "outputs": []
    },
    {
      "cell_type": "code",
      "metadata": {
        "colab_type": "code",
        "id": "DsGbl_E1iFZT",
        "colab": {}
      },
      "source": [
        "x=((x)-(x).min()+1).transform(np.log)      # log transformation"
      ],
      "execution_count": 0,
      "outputs": []
    },
    {
      "cell_type": "code",
      "metadata": {
        "colab_type": "code",
        "id": "J3u1CpMliFGl",
        "colab": {}
      },
      "source": [
        "x=np.array(x)\n",
        "y=np.array(y)\n",
        "y=y.reshape(-1,1)"
      ],
      "execution_count": 0,
      "outputs": []
    },
    {
      "cell_type": "code",
      "metadata": {
        "colab_type": "code",
        "id": "czJEdFQRiEXg",
        "colab": {}
      },
      "source": [
        "x=(x-np.min(x))/(np.max(x)-np.min(x))    #Minmax normalization"
      ],
      "execution_count": 0,
      "outputs": []
    },
    {
      "cell_type": "code",
      "metadata": {
        "colab_type": "code",
        "id": "VXnKo4-piDve",
        "colab": {}
      },
      "source": [
        "from sklearn.model_selection import train_test_split\n",
        "x_train,x_test,y_train,y_test=train_test_split(x,y,test_size=0.2)"
      ],
      "execution_count": 0,
      "outputs": []
    },
    {
      "cell_type": "code",
      "metadata": {
        "id": "gVPgq5iriRQC",
        "colab_type": "code",
        "colab": {}
      },
      "source": [
        "theta1=np.random.rand(x.shape[1],5)\n",
        "theta2=np.random.rand(5,3)\n",
        "theta3=np.random.rand(3,1)"
      ],
      "execution_count": 0,
      "outputs": []
    },
    {
      "cell_type": "code",
      "metadata": {
        "id": "EXxClV0DjVfh",
        "colab_type": "code",
        "colab": {}
      },
      "source": [
        "def sigmoid(x,theta):\n",
        "  z=np.array(np.dot(x,theta),dtype=np.float64)\n",
        "  return 1/(1+np.exp((-z)))"
      ],
      "execution_count": 0,
      "outputs": []
    },
    {
      "cell_type": "code",
      "metadata": {
        "id": "zT3fbwLBjxBC",
        "colab_type": "code",
        "colab": {}
      },
      "source": [
        "def loss(y,y_hat):\n",
        "  return -np.mean(y*np.log(y_hat)+(1-y)*np.log(1-y_hat))"
      ],
      "execution_count": 0,
      "outputs": []
    },
    {
      "cell_type": "code",
      "metadata": {
        "id": "NBvODNUqiy4b",
        "colab_type": "code",
        "colab": {}
      },
      "source": [
        "def forwardprop(x):\n",
        "  a2=sigmoid(x,theta1)\n",
        "  a3=sigmoid(a2,theta2)\n",
        "  a4=sigmoid(a3,theta3)\n",
        "  return a4"
      ],
      "execution_count": 0,
      "outputs": []
    },
    {
      "cell_type": "code",
      "metadata": {
        "id": "8GyEDKxriYTx",
        "colab_type": "code",
        "colab": {}
      },
      "source": [
        "m=x_train.shape[0]\n",
        "alpha=0.01\n",
        "a2=sigmoid(x_train,theta1)\n",
        "a3=sigmoid(a2,theta2)\n",
        "a4=sigmoid(a3,theta3)\n",
        "err4=a4-y_train\n",
        "err3=np.dot(err4,np.transpose(theta3))*(a3)*(1-a3)\n",
        "err2=np.dot(err3,np.transpose(theta2))*(a2)*(1-a2)\n",
        "a=[0]*len(x_train)\n",
        "cost=[]\n",
        "itera=[]\n",
        "for i in range(1000):\n",
        "  a[i]=x[i]\n",
        "  a2=sigmoid(x_train,theta1)\n",
        "  a3=sigmoid(a2,theta2)\n",
        "  a4=sigmoid(a3,theta3)\n",
        "  err4=a4-y_train \n",
        "  err3=np.dot(err4,np.transpose(theta3))*(a3)*(1-a3)\n",
        "  err2=np.dot(err3,np.transpose(theta2))*(a2)*(1-a2)\n",
        "  delta1=np.dot(x_train.T,err2)\n",
        "  delta2=np.dot(a2.T,err3)\n",
        "  delta3=np.dot(a3.T,err4)\n",
        "  d1=(1/m)*(delta1)\n",
        "  d2=(1/m)*(delta2)\n",
        "  d3=(1/m)*(delta3)\n",
        "  theta1=theta1-alpha*(1/m)*d1\n",
        "  theta2=theta2-alpha*(1/m)*d2\n",
        "  theta3=theta3-alpha*(1/m)*d3\n",
        "  cost.append(loss(y_train,a4))\n",
        "  itera.append(i)"
      ],
      "execution_count": 0,
      "outputs": []
    },
    {
      "cell_type": "code",
      "metadata": {
        "id": "hxiSCbpviZLP",
        "colab_type": "code",
        "colab": {
          "base_uri": "https://localhost:8080/",
          "height": 276
        },
        "outputId": "717f93a5-6721-47a2-b127-7ecde9f3e23e"
      },
      "source": [
        "plt.plot(itera,cost)\n",
        "plt.show()"
      ],
      "execution_count": 20,
      "outputs": [
        {
          "output_type": "display_data",
          "data": {
            "image/png": "[encoded data removed]",
            "text/plain": [
              "<Figure size 432x288 with 1 Axes>"
            ]
          },
          "metadata": {
            "tags": []
          }
        }
      ]
    },
    {
      "cell_type": "code",
      "metadata": {
        "id": "pJi32DO4i-bc",
        "colab_type": "code",
        "colab": {
          "base_uri": "https://localhost:8080/",
          "height": 35
        },
        "outputId": "3e3205ca-4c70-40a7-92f2-96f77a7f164e"
      },
      "source": [
        "#train accuracy\n",
        "out1=forwardprop(x_train)\n",
        "c=0\n",
        "for i in range(x_train.shape[0]):\n",
        "  if out1[i]>0.5:\n",
        "    out1[i]=1\n",
        "  else:\n",
        "    out1[i]=0\n",
        "  if out1[i]==y_train[i]:\n",
        "    c+=1\n",
        "print (c/out1.shape[0]*100)"
      ],
      "execution_count": 21,
      "outputs": [
        {
          "output_type": "stream",
          "text": [
            "64.45687952600395\n"
          ],
          "name": "stdout"
        }
      ]
    },
    {
      "cell_type": "code",
      "metadata": {
        "id": "1bGyqamKjHKJ",
        "colab_type": "code",
        "colab": {
          "base_uri": "https://localhost:8080/",
          "height": 35
        },
        "outputId": "491e9b85-45a4-4b25-b5c8-b52ada221795"
      },
      "source": [
        "#test accuracy\n",
        "out=forwardprop(x_test)\n",
        "c=0\n",
        "for i in range(x_test.shape[0]):\n",
        "  if out[i]>0.5:\n",
        "    out[i]=1\n",
        "  else:\n",
        "    out[i]=0\n",
        "  if out[i]==y_test[i]:\n",
        "    c+=1\n",
        "print (c/out.shape[0]*100)"
      ],
      "execution_count": 22,
      "outputs": [
        {
          "output_type": "stream",
          "text": [
            "66.32438125329121\n"
          ],
          "name": "stdout"
        }
      ]
    }
  ]
}