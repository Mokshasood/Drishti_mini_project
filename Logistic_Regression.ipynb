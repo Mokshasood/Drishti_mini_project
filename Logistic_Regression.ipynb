{
  "nbformat": 4,
  "nbformat_minor": 0,
  "metadata": {
    "colab": {
      "name": "Logistic_Regression.ipynb",
      "provenance": []
    },
    "kernelspec": {
      "name": "python3",
      "display_name": "Python 3"
    }
  },
  "cells": [
    {
      "cell_type": "code",
      "metadata": {
        "id": "h01TU-3H7opX",
        "colab_type": "code",
        "colab": {}
      },
      "source": [
        "import numpy as np\n",
        "import pandas as pd\n",
        "from matplotlib import pyplot as plt"
      ],
      "execution_count": 0,
      "outputs": []
    },
    {
      "cell_type": "code",
      "metadata": {
        "id": "3rCqXPpw8eQy",
        "colab_type": "code",
        "colab": {
          "base_uri": "https://localhost:8080/",
          "height": 375
        },
        "outputId": "19922f8a-a506-4b68-a56e-a337c8001f60"
      },
      "source": [
        "data=pd.read_csv(\"/content/Magic_Telescope_data.csv\")\n",
        "data.head(10)"
      ],
      "execution_count": 89,
      "outputs": [
        {
          "output_type": "execute_result",
          "data": {
            "text/html": [
              "<div>\n",
              "<style scoped>\n",
              "    .dataframe tbody tr th:only-of-type {\n",
              "        vertical-align: middle;\n",
              "    }\n",
              "\n",
              "    .dataframe tbody tr th {\n",
              "        vertical-align: top;\n",
              "    }\n",
              "\n",
              "    .dataframe thead th {\n",
              "        text-align: right;\n",
              "    }\n",
              "</style>\n",
              "<table border=\"1\" class=\"dataframe\">\n",
              "  <thead>\n",
              "    <tr style=\"text-align: right;\">\n",
              "      <th></th>\n",
              "      <th>ID</th>\n",
              "      <th>fLen0t1:</th>\n",
              "      <th>fWidt1:</th>\n",
              "      <th>fSize:</th>\n",
              "      <th>fConc:</th>\n",
              "      <th>fConc1:</th>\n",
              "      <th>fAsym:</th>\n",
              "      <th>fM3Lon0:</th>\n",
              "      <th>fM3Trans:</th>\n",
              "      <th>fAlp1a:</th>\n",
              "      <th>fDist:</th>\n",
              "      <th>class</th>\n",
              "    </tr>\n",
              "  </thead>\n",
              "  <tbody>\n",
              "    <tr>\n",
              "      <th>0</th>\n",
              "      <td>NaN</td>\n",
              "      <td>NaN</td>\n",
              "      <td>NaN</td>\n",
              "      <td>NaN</td>\n",
              "      <td>NaN</td>\n",
              "      <td>NaN</td>\n",
              "      <td>NaN</td>\n",
              "      <td>NaN</td>\n",
              "      <td>NaN</td>\n",
              "      <td>NaN</td>\n",
              "      <td>NaN</td>\n",
              "      <td>NaN</td>\n",
              "    </tr>\n",
              "    <tr>\n",
              "      <th>1</th>\n",
              "      <td>1.0</td>\n",
              "      <td>28.7967</td>\n",
              "      <td>16.0021</td>\n",
              "      <td>2.6449</td>\n",
              "      <td>0.3918</td>\n",
              "      <td>0.1982</td>\n",
              "      <td>27.7004</td>\n",
              "      <td>22.011</td>\n",
              "      <td>-8.2027</td>\n",
              "      <td>40.0920</td>\n",
              "      <td>81.8828</td>\n",
              "      <td>g</td>\n",
              "    </tr>\n",
              "    <tr>\n",
              "      <th>2</th>\n",
              "      <td>2.0</td>\n",
              "      <td>31.6036</td>\n",
              "      <td>11.7235</td>\n",
              "      <td>2.5185</td>\n",
              "      <td>0.5303</td>\n",
              "      <td>0.3773</td>\n",
              "      <td>26.2722</td>\n",
              "      <td>23.8238</td>\n",
              "      <td>-9.9574</td>\n",
              "      <td>6.3609</td>\n",
              "      <td>205.2610</td>\n",
              "      <td>g</td>\n",
              "    </tr>\n",
              "    <tr>\n",
              "      <th>3</th>\n",
              "      <td>3.0</td>\n",
              "      <td>162.0520</td>\n",
              "      <td>136.0310</td>\n",
              "      <td>4.0612</td>\n",
              "      <td>0.0374</td>\n",
              "      <td>0.0187</td>\n",
              "      <td>116.741</td>\n",
              "      <td>-64.858</td>\n",
              "      <td>-45.2160</td>\n",
              "      <td>76.9600</td>\n",
              "      <td>256.7880</td>\n",
              "      <td>g</td>\n",
              "    </tr>\n",
              "    <tr>\n",
              "      <th>4</th>\n",
              "      <td>4.0</td>\n",
              "      <td>23.8172</td>\n",
              "      <td>9.5728</td>\n",
              "      <td>2.3385</td>\n",
              "      <td>0.6147</td>\n",
              "      <td>0.3922</td>\n",
              "      <td>27.2107</td>\n",
              "      <td>-6.4633</td>\n",
              "      <td>-7.1513</td>\n",
              "      <td>10.4490</td>\n",
              "      <td>116.7370</td>\n",
              "      <td>g</td>\n",
              "    </tr>\n",
              "    <tr>\n",
              "      <th>5</th>\n",
              "      <td>5.0</td>\n",
              "      <td>75.1362</td>\n",
              "      <td>30.9205</td>\n",
              "      <td>3.1611</td>\n",
              "      <td>0.3168</td>\n",
              "      <td>0.1832</td>\n",
              "      <td>-5.5277</td>\n",
              "      <td>28.5525</td>\n",
              "      <td>21.8393</td>\n",
              "      <td>4.6480</td>\n",
              "      <td>356.4620</td>\n",
              "      <td>g</td>\n",
              "    </tr>\n",
              "    <tr>\n",
              "      <th>6</th>\n",
              "      <td>6.0</td>\n",
              "      <td>51.6240</td>\n",
              "      <td>21.1502</td>\n",
              "      <td>2.9085</td>\n",
              "      <td>0.2420</td>\n",
              "      <td>0.134</td>\n",
              "      <td>50.8761</td>\n",
              "      <td>43.1887</td>\n",
              "      <td>9.8145</td>\n",
              "      <td>3.6130</td>\n",
              "      <td>238.0980</td>\n",
              "      <td>g</td>\n",
              "    </tr>\n",
              "    <tr>\n",
              "      <th>7</th>\n",
              "      <td>7.0</td>\n",
              "      <td>48.2468</td>\n",
              "      <td>17.3565</td>\n",
              "      <td>3.0332</td>\n",
              "      <td>0.2529</td>\n",
              "      <td>0.1515</td>\n",
              "      <td>8.573</td>\n",
              "      <td>38.0957</td>\n",
              "      <td>10.5868</td>\n",
              "      <td>4.7920</td>\n",
              "      <td>219.0870</td>\n",
              "      <td>g</td>\n",
              "    </tr>\n",
              "    <tr>\n",
              "      <th>8</th>\n",
              "      <td>8.0</td>\n",
              "      <td>26.7897</td>\n",
              "      <td>13.7595</td>\n",
              "      <td>2.5521</td>\n",
              "      <td>0.4236</td>\n",
              "      <td>0.2174</td>\n",
              "      <td>29.6339</td>\n",
              "      <td>20.456</td>\n",
              "      <td>-2.9292</td>\n",
              "      <td>0.8120</td>\n",
              "      <td>237.1340</td>\n",
              "      <td>g</td>\n",
              "    </tr>\n",
              "    <tr>\n",
              "      <th>9</th>\n",
              "      <td>9.0</td>\n",
              "      <td>96.2327</td>\n",
              "      <td>46.5165</td>\n",
              "      <td>4.154</td>\n",
              "      <td>0.0779</td>\n",
              "      <td>0.039</td>\n",
              "      <td>110.355</td>\n",
              "      <td>85.0486</td>\n",
              "      <td>43.1844</td>\n",
              "      <td>4.8540</td>\n",
              "      <td>248.2260</td>\n",
              "      <td>g</td>\n",
              "    </tr>\n",
              "  </tbody>\n",
              "</table>\n",
              "</div>"
            ],
            "text/plain": [
              "    ID  fLen0t1:   fWidt1:  fSize:  ...  fM3Trans:  fAlp1a:    fDist: class\n",
              "0  NaN       NaN       NaN     NaN  ...        NaN      NaN       NaN   NaN\n",
              "1  1.0   28.7967   16.0021  2.6449  ...    -8.2027  40.0920   81.8828     g\n",
              "2  2.0   31.6036   11.7235  2.5185  ...    -9.9574   6.3609  205.2610     g\n",
              "3  3.0  162.0520  136.0310  4.0612  ...   -45.2160  76.9600  256.7880     g\n",
              "4  4.0   23.8172    9.5728  2.3385  ...    -7.1513  10.4490  116.7370     g\n",
              "5  5.0   75.1362   30.9205  3.1611  ...    21.8393   4.6480  356.4620     g\n",
              "6  6.0   51.6240   21.1502  2.9085  ...     9.8145   3.6130  238.0980     g\n",
              "7  7.0   48.2468   17.3565  3.0332  ...    10.5868   4.7920  219.0870     g\n",
              "8  8.0   26.7897   13.7595  2.5521  ...    -2.9292   0.8120  237.1340     g\n",
              "9  9.0   96.2327   46.5165   4.154  ...    43.1844   4.8540  248.2260     g\n",
              "\n",
              "[10 rows x 12 columns]"
            ]
          },
          "metadata": {
            "tags": []
          },
          "execution_count": 89
        }
      ]
    },
    {
      "cell_type": "code",
      "metadata": {
        "id": "Bo4Lzzg3cYrz",
        "colab_type": "code",
        "colab": {
          "base_uri": "https://localhost:8080/",
          "height": 211
        },
        "outputId": "e0c457ed-d9b1-428b-ecfb-e4bcbe9ecd83"
      },
      "source": [
        "for i in range(len(data['class'])):\n",
        "  if data['class'][i]=='g':\n",
        "    data['class'][i]=1\n",
        "  elif data['class'][i]=='h':\n",
        "    data['class'][i]=0\n",
        "  else:\n",
        "    pass"
      ],
      "execution_count": 90,
      "outputs": [
        {
          "output_type": "stream",
          "text": [
            "/usr/local/lib/python3.6/dist-packages/ipykernel_launcher.py:3: SettingWithCopyWarning: \n",
            "A value is trying to be set on a copy of a slice from a DataFrame\n",
            "\n",
            "See the caveats in the documentation: http://pandas.pydata.org/pandas-docs/stable/user_guide/indexing.html#returning-a-view-versus-a-copy\n",
            "  This is separate from the ipykernel package so we can avoid doing imports until\n",
            "/usr/local/lib/python3.6/dist-packages/ipykernel_launcher.py:5: SettingWithCopyWarning: \n",
            "A value is trying to be set on a copy of a slice from a DataFrame\n",
            "\n",
            "See the caveats in the documentation: http://pandas.pydata.org/pandas-docs/stable/user_guide/indexing.html#returning-a-view-versus-a-copy\n",
            "  \"\"\"\n"
          ],
          "name": "stderr"
        }
      ]
    },
    {
      "cell_type": "code",
      "metadata": {
        "id": "0EwVDAPo8yFz",
        "colab_type": "code",
        "colab": {
          "base_uri": "https://localhost:8080/",
          "height": 312
        },
        "outputId": "66c67704-70e6-4738-93b0-d0d3e631f7c0"
      },
      "source": [
        "#data= data.apply(pd.to_numeric, errors='coerce')\n",
        "data=data.apply(lambda x :pd.to_numeric(x, errors ='coerce'),axis=1).dropna()\n",
        "data.info()"
      ],
      "execution_count": 91,
      "outputs": [
        {
          "output_type": "stream",
          "text": [
            "<class 'pandas.core.frame.DataFrame'>\n",
            "Int64Index: 18988 entries, 1 to 19020\n",
            "Data columns (total 12 columns):\n",
            "ID           18988 non-null float64\n",
            "fLen0t1:     18988 non-null float64\n",
            "fWidt1:      18988 non-null float64\n",
            "fSize:       18988 non-null float64\n",
            "fConc:       18988 non-null float64\n",
            "fConc1:      18988 non-null float64\n",
            "fAsym:       18988 non-null float64\n",
            "fM3Lon0:     18988 non-null float64\n",
            "fM3Trans:    18988 non-null float64\n",
            "fAlp1a:      18988 non-null float64\n",
            "fDist:       18988 non-null float64\n",
            "class        18988 non-null float64\n",
            "dtypes: float64(12)\n",
            "memory usage: 1.9 MB\n"
          ],
          "name": "stdout"
        }
      ]
    },
    {
      "cell_type": "code",
      "metadata": {
        "id": "_X3eF5FC8565",
        "colab_type": "code",
        "colab": {}
      },
      "source": [
        "data=data.iloc[:,1:]\n",
        "x=data.iloc[:,:-1]\n",
        "y=data.iloc[:,-1]"
      ],
      "execution_count": 0,
      "outputs": []
    },
    {
      "cell_type": "code",
      "metadata": {
        "id": "myfAV7y486rt",
        "colab_type": "code",
        "colab": {}
      },
      "source": [
        "x=((x)-(x).min()+1).transform(np.log)      # log transformation"
      ],
      "execution_count": 0,
      "outputs": []
    },
    {
      "cell_type": "code",
      "metadata": {
        "id": "PTztlj3r9DUW",
        "colab_type": "code",
        "colab": {}
      },
      "source": [
        "x=np.array(x)\n",
        "y=np.array(y)\n",
        "y=y.reshape(-1,1)"
      ],
      "execution_count": 0,
      "outputs": []
    },
    {
      "cell_type": "code",
      "metadata": {
        "id": "HJsNtJiV9G7A",
        "colab_type": "code",
        "colab": {}
      },
      "source": [
        "x=(x-np.min(x))/(np.max(x)-np.min(x))    #Minmax normalization"
      ],
      "execution_count": 0,
      "outputs": []
    },
    {
      "cell_type": "code",
      "metadata": {
        "id": "BAeL43rt9NsT",
        "colab_type": "code",
        "colab": {}
      },
      "source": [
        "from sklearn.model_selection import train_test_split\n",
        "x_train,x_test,y_train,y_test=train_test_split(x,y,test_size=0.2)"
      ],
      "execution_count": 0,
      "outputs": []
    },
    {
      "cell_type": "code",
      "metadata": {
        "id": "YXS5e599YpZy",
        "colab_type": "code",
        "colab": {
          "base_uri": "https://localhost:8080/",
          "height": 35
        },
        "outputId": "3d2e1554-a4a7-4233-96c1-b797b0e1ae78"
      },
      "source": [
        "type(x)"
      ],
      "execution_count": 97,
      "outputs": [
        {
          "output_type": "execute_result",
          "data": {
            "text/plain": [
              "numpy.ndarray"
            ]
          },
          "metadata": {
            "tags": []
          },
          "execution_count": 97
        }
      ]
    },
    {
      "cell_type": "code",
      "metadata": {
        "id": "mEjHPGA99RR9",
        "colab_type": "code",
        "colab": {}
      },
      "source": [
        "def sigmoid(x,theta):\n",
        "  z=np.array(np.dot(x,theta),dtype=np.float64)\n",
        "  return 1/(1+np.exp((-z)))\n",
        "theta=np.zeros((x_train.shape[1],1))"
      ],
      "execution_count": 0,
      "outputs": []
    },
    {
      "cell_type": "code",
      "metadata": {
        "id": "0_KvbqfW9TD4",
        "colab_type": "code",
        "colab": {}
      },
      "source": [
        "h=sigmoid(x_train,theta)\n",
        "alpha=0.1\n",
        "m=len(x_train)"
      ],
      "execution_count": 0,
      "outputs": []
    },
    {
      "cell_type": "code",
      "metadata": {
        "id": "_LeOVXfI9WPx",
        "colab_type": "code",
        "colab": {}
      },
      "source": [
        "def loss(y,y_hat):\n",
        "  return -np.mean(y*np.log(y_hat)+(1-y)*np.log(1-y_hat))"
      ],
      "execution_count": 0,
      "outputs": []
    },
    {
      "cell_type": "code",
      "metadata": {
        "id": "BInhb9GK9dxG",
        "colab_type": "code",
        "colab": {}
      },
      "source": [
        "iterations=2000\n",
        "cost =[]\n",
        "itera=[]\n",
        "for i in range(iterations):\n",
        "  h=sigmoid(x_train,theta)\n",
        "  theta=theta-alpha*1/m*np.dot((x_train).T,(h-y_train))\n",
        "  cost.append(loss(y_train,h))\n",
        "  itera.append(i)"
      ],
      "execution_count": 0,
      "outputs": []
    },
    {
      "cell_type": "code",
      "metadata": {
        "id": "pvENcMax9ivJ",
        "colab_type": "code",
        "colab": {
          "base_uri": "https://localhost:8080/",
          "height": 265
        },
        "outputId": "a0fd641a-ab45-4f6c-aea7-42fa9075f91e"
      },
      "source": [
        "#Visualising the cost which should decrease\n",
        "for i in range(iterations):\n",
        "  plt.scatter(i,cost[i])"
      ],
      "execution_count": 106,
      "outputs": [
        {
          "output_type": "display_data",
          "data": {
            "image/png": "[encoded data removed]",
            "text/plain": [
              "<Figure size 432x288 with 1 Axes>"
            ]
          },
          "metadata": {
            "tags": []
          }
        }
      ]
    },
    {
      "cell_type": "code",
      "metadata": {
        "id": "qGvStjQI9j-a",
        "colab_type": "code",
        "colab": {
          "base_uri": "https://localhost:8080/",
          "height": 35
        },
        "outputId": "25505260-1387-4289-ffb5-c3a662a1ee21"
      },
      "source": [
        "#test accuracy\n",
        "out=sigmoid(x_test,theta)\n",
        "c=0\n",
        "for i in range(len(out)):\n",
        "  if out[i]>0.5:\n",
        "    out[i]=1\n",
        "  else:\n",
        "    out[i]=0\n",
        "  if out[i]==y_test[i]:\n",
        "    c+=1\n",
        "print (c/out.shape[0]*100)"
      ],
      "execution_count": 103,
      "outputs": [
        {
          "output_type": "stream",
          "text": [
            "77.67245918904688\n"
          ],
          "name": "stdout"
        }
      ]
    }
  ]
}